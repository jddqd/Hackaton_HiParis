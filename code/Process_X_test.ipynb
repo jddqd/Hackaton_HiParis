{
 "cells": [
  {
   "attachments": {},
   "cell_type": "markdown",
   "metadata": {},
   "source": [
    "# Hi!ckaton\n",
    "This notebook presents the work the group n°12 has been producing."
   ]
  },
  {
   "cell_type": "code",
   "execution_count": 1,
   "metadata": {},
   "outputs": [],
   "source": [
    "# necessary imports\n",
    "import matplotlib.pyplot as plt\n",
    "import numpy as np\n",
    "import pandas as pd "
   ]
  },
  {
   "cell_type": "code",
   "execution_count": 2,
   "metadata": {},
   "outputs": [
    {
     "name": "stderr",
     "output_type": "stream",
     "text": [
      "/tmp/ipykernel_21997/1538058322.py:2: DtypeWarning: Columns (1,5,108,110,111,115,117,118,122,124,125) have mixed types. Specify dtype option on import or set low_memory=False.\n",
      "  df_train =  pd.read_csv(\"hfactory_magic_folders/water_shortage_prediction/X_test_Hi5.csv\")\n"
     ]
    }
   ],
   "source": [
    "# load the training dataset\n",
    "df_train =  pd.read_csv(\"hfactory_magic_folders/water_shortage_prediction/X_test_Hi5.csv\")"
   ]
  },
  {
   "cell_type": "code",
   "execution_count": 3,
   "metadata": {},
   "outputs": [
    {
     "name": "stdout",
     "output_type": "stream",
     "text": [
      "Number of rows : 611208\n",
      "Number of columns : 135\n"
     ]
    }
   ],
   "source": [
    "# first exploration of the dataset\n",
    "rows, columns = df_train.shape\n",
    "\n",
    "print(f\"Number of rows : {rows}\")\n",
    "print(f\"Number of columns : {columns}\")"
   ]
  },
  {
   "cell_type": "code",
   "execution_count": null,
   "metadata": {},
   "outputs": [
    {
     "data": {
      "text/plain": [
       "(611208, 10)"
      ]
     },
     "execution_count": 5,
     "metadata": {},
     "output_type": "execute_result"
    }
   ],
   "source": [
    "usefull_columns = [ 'piezo_station_altitude',\n",
    "                   'piezo_station_longitude',\n",
    "                   'piezo_station_latitude',\n",
    "                   'piezo_station_bss_id',\n",
    "                   'piezo_station_investigation_depth',\n",
    "                   'piezo_measurement_date', # To process\n",
    "                   'piezo_qualification', # To process (discrimination)\n",
    "                   'meteo_rain_height', # High impact\n",
    "                   'meteo_temperature_avg',\n",
    "                   'hydro_observation_result_elab',\n",
    "                   'hydro_hydro_quantity_elab'] # To process, according to its units\n",
    "                   \n",
    "\n",
    "\n",
    "df_train = df_train[usefull_columns]\n",
    "df_train.shape"
   ]
  },
  {
   "cell_type": "code",
   "execution_count": null,
   "metadata": {},
   "outputs": [
    {
     "data": {
      "text/plain": [
       "(611208, 10)"
      ]
     },
     "execution_count": 6,
     "metadata": {},
     "output_type": "execute_result"
    }
   ],
   "source": [
    "df_train['piezo_measurement_date'] = pd.to_datetime(df_train['piezo_measurement_date'])\n",
    "curr_id = df_train['piezo_station_bss_id'][0]\n",
    "past_measure = [(df_train['piezo_measurement_date'][0],df_train['meteo_rain_height'][0])]\n",
    "\n",
    "for i in range(1,df_train.shape[0]):\n",
    "    if df_train['piezo_station_bss_id'][i] == curr_id:\n",
    "        for j in range(max(0,len(past_measure) - 10), len(past_measure)):\n",
    "\n",
    "            stmp = (df_train['piezo_measurement_date'][i] - past_measure[j][0]).days\n",
    "            if 0 < stmp < 10:\n",
    "                df_train[f'piezo_measurement_day_-{stmp}'][i] = past_measure[j][1]\n",
    "        past_measure.append((df_train['piezo_measurement_date'][i],df_train['meteo_rain_height'][i]))\n",
    "                \n",
    "    else:\n",
    "        curr_id = df_train['piezo_station_bss_id'][i]\n",
    "        past_measure = [(df_train['piezo_measurement_date'][i],df_train['meteo_rain_height'][i])]\n",
    "    if i%100000 == 0:\n",
    "        print(i)"
   ]
  },
  {
   "cell_type": "code",
   "execution_count": null,
   "metadata": {},
   "outputs": [],
   "source": [
    "df_train = df_train.drop(columns = ['piezo_station_bss_id'])"
   ]
  },
  {
   "cell_type": "code",
   "execution_count": null,
   "metadata": {},
   "outputs": [
    {
     "name": "stderr",
     "output_type": "stream",
     "text": [
      "/tmp/ipykernel_21997/3213209030.py:2: SettingWithCopyWarning: \n",
      "A value is trying to be set on a copy of a slice from a DataFrame.\n",
      "Try using .loc[row_indexer,col_indexer] = value instead\n",
      "\n",
      "See the caveats in the documentation: https://pandas.pydata.org/pandas-docs/stable/user_guide/indexing.html#returning-a-view-versus-a-copy\n",
      "  df_train['piezo_measurement_date'] = pd.to_datetime(df_train['piezo_measurement_date'])\n",
      "/tmp/ipykernel_21997/3213209030.py:4: SettingWithCopyWarning: \n",
      "A value is trying to be set on a copy of a slice from a DataFrame.\n",
      "Try using .loc[row_indexer,col_indexer] = value instead\n",
      "\n",
      "See the caveats in the documentation: https://pandas.pydata.org/pandas-docs/stable/user_guide/indexing.html#returning-a-view-versus-a-copy\n",
      "  df_train['day'] = df_train['piezo_measurement_date'].dt.day\n",
      "/tmp/ipykernel_21997/3213209030.py:5: SettingWithCopyWarning: \n",
      "A value is trying to be set on a copy of a slice from a DataFrame.\n",
      "Try using .loc[row_indexer,col_indexer] = value instead\n",
      "\n",
      "See the caveats in the documentation: https://pandas.pydata.org/pandas-docs/stable/user_guide/indexing.html#returning-a-view-versus-a-copy\n",
      "  df_train['month'] = df_train['piezo_measurement_date'].dt.month\n",
      "/tmp/ipykernel_21997/3213209030.py:6: SettingWithCopyWarning: \n",
      "A value is trying to be set on a copy of a slice from a DataFrame.\n",
      "Try using .loc[row_indexer,col_indexer] = value instead\n",
      "\n",
      "See the caveats in the documentation: https://pandas.pydata.org/pandas-docs/stable/user_guide/indexing.html#returning-a-view-versus-a-copy\n",
      "  df_train['year'] = df_train['piezo_measurement_date'].dt.year\n"
     ]
    }
   ],
   "source": [
    "# The dates (drop the day information and create a month and a year column)\n",
    "df_train['piezo_measurement_date'] = pd.to_datetime(df_train['piezo_measurement_date'])\n",
    "\n",
    "df_train['day'] = df_train['piezo_measurement_date'].dt.day \n",
    "df_train['month'] = df_train['piezo_measurement_date'].dt.month\n",
    "df_train['year'] = df_train['piezo_measurement_date'].dt.year\n",
    "df_train = df_train.drop(columns = ['piezo_measurement_date']) "
   ]
  },
  {
   "cell_type": "code",
   "execution_count": 9,
   "metadata": {},
   "outputs": [
    {
     "data": {
      "text/plain": [
       "(611208, 12)"
      ]
     },
     "execution_count": 9,
     "metadata": {},
     "output_type": "execute_result"
    }
   ],
   "source": [
    "df_train.shape"
   ]
  },
  {
   "cell_type": "code",
   "execution_count": 10,
   "metadata": {},
   "outputs": [
    {
     "data": {
      "text/plain": [
       "count    6.112080e+05\n",
       "mean     1.443601e+04\n",
       "std      7.231818e+04\n",
       "min     -1.369000e+04\n",
       "25%      1.020000e+02\n",
       "50%      4.880000e+02\n",
       "75%      2.884000e+03\n",
       "max      1.738213e+06\n",
       "Name: hydro_observation_result_elab, dtype: float64"
      ]
     },
     "execution_count": 10,
     "metadata": {},
     "output_type": "execute_result"
    }
   ],
   "source": [
    "df_train['hydro_observation_result_elab'].describe()"
   ]
  },
  {
   "cell_type": "code",
   "execution_count": 11,
   "metadata": {},
   "outputs": [],
   "source": [
    "# Adapt the value of hydro_hydro_quantity_elab with the right unit\n",
    "df_train['hydro_observation_result_elab'] = df_train['hydro_observation_result_elab'] / 30\n",
    "df_train = df_train.drop(columns = ['hydro_hydro_quantity_elab']) "
   ]
  },
  {
   "cell_type": "code",
   "execution_count": 12,
   "metadata": {},
   "outputs": [
    {
     "data": {
      "text/plain": [
       "0             6.366667\n",
       "1           444.866667\n",
       "2           538.933333\n",
       "3         11119.666667\n",
       "4             0.433333\n",
       "              ...     \n",
       "611203       12.833333\n",
       "611204       12.833333\n",
       "611205       34.000000\n",
       "611206       10.633333\n",
       "611207        3.766667\n",
       "Name: hydro_observation_result_elab, Length: 611208, dtype: float64"
      ]
     },
     "execution_count": 12,
     "metadata": {},
     "output_type": "execute_result"
    }
   ],
   "source": [
    "df_train['hydro_observation_result_elab']"
   ]
  },
  {
   "cell_type": "code",
   "execution_count": 13,
   "metadata": {},
   "outputs": [
    {
     "data": {
      "text/plain": [
       "Index(['piezo_station_altitude', 'piezo_station_longitude',\n",
       "       'piezo_station_latitude', 'piezo_station_investigation_depth',\n",
       "       'piezo_qualification', 'meteo_rain_height', 'meteo_temperature_avg',\n",
       "       'hydro_observation_result_elab', 'day', 'month', 'year'],\n",
       "      dtype='object')"
      ]
     },
     "execution_count": 13,
     "metadata": {},
     "output_type": "execute_result"
    }
   ],
   "source": [
    "df_train.columns"
   ]
  },
  {
   "cell_type": "code",
   "execution_count": 14,
   "metadata": {},
   "outputs": [
    {
     "data": {
      "text/plain": [
       "(611208, 11)"
      ]
     },
     "execution_count": 14,
     "metadata": {},
     "output_type": "execute_result"
    }
   ],
   "source": [
    "df_train.shape"
   ]
  },
  {
   "cell_type": "code",
   "execution_count": 16,
   "metadata": {},
   "outputs": [
    {
     "data": {
      "text/html": [
       "<div>\n",
       "<style scoped>\n",
       "    .dataframe tbody tr th:only-of-type {\n",
       "        vertical-align: middle;\n",
       "    }\n",
       "\n",
       "    .dataframe tbody tr th {\n",
       "        vertical-align: top;\n",
       "    }\n",
       "\n",
       "    .dataframe thead th {\n",
       "        text-align: right;\n",
       "    }\n",
       "</style>\n",
       "<table border=\"1\" class=\"dataframe\">\n",
       "  <thead>\n",
       "    <tr style=\"text-align: right;\">\n",
       "      <th></th>\n",
       "      <th>piezo_station_altitude</th>\n",
       "      <th>piezo_station_longitude</th>\n",
       "      <th>piezo_station_latitude</th>\n",
       "      <th>piezo_station_investigation_depth</th>\n",
       "      <th>piezo_qualification</th>\n",
       "      <th>meteo_rain_height</th>\n",
       "      <th>meteo_temperature_avg</th>\n",
       "      <th>hydro_observation_result_elab</th>\n",
       "      <th>day</th>\n",
       "      <th>month</th>\n",
       "      <th>year</th>\n",
       "    </tr>\n",
       "  </thead>\n",
       "  <tbody>\n",
       "    <tr>\n",
       "      <th>0</th>\n",
       "      <td>232.00</td>\n",
       "      <td>5.748241</td>\n",
       "      <td>45.828148</td>\n",
       "      <td>20.00</td>\n",
       "      <td>Correcte</td>\n",
       "      <td>7.4</td>\n",
       "      <td>17.1</td>\n",
       "      <td>6.366667</td>\n",
       "      <td>1</td>\n",
       "      <td>6</td>\n",
       "      <td>2022</td>\n",
       "    </tr>\n",
       "    <tr>\n",
       "      <th>1</th>\n",
       "      <td>247.25</td>\n",
       "      <td>5.356637</td>\n",
       "      <td>46.028102</td>\n",
       "      <td>35.60</td>\n",
       "      <td>Correcte</td>\n",
       "      <td>3.4</td>\n",
       "      <td>16.8</td>\n",
       "      <td>444.866667</td>\n",
       "      <td>1</td>\n",
       "      <td>6</td>\n",
       "      <td>2022</td>\n",
       "    </tr>\n",
       "    <tr>\n",
       "      <th>2</th>\n",
       "      <td>218.77</td>\n",
       "      <td>5.220795</td>\n",
       "      <td>45.895734</td>\n",
       "      <td>35.22</td>\n",
       "      <td>Correcte</td>\n",
       "      <td>NaN</td>\n",
       "      <td>18.0</td>\n",
       "      <td>538.933333</td>\n",
       "      <td>1</td>\n",
       "      <td>6</td>\n",
       "      <td>2022</td>\n",
       "    </tr>\n",
       "    <tr>\n",
       "      <th>3</th>\n",
       "      <td>499.85</td>\n",
       "      <td>5.948977</td>\n",
       "      <td>46.201180</td>\n",
       "      <td>34.20</td>\n",
       "      <td>Correcte</td>\n",
       "      <td>12.8</td>\n",
       "      <td>11.9</td>\n",
       "      <td>11119.666667</td>\n",
       "      <td>1</td>\n",
       "      <td>6</td>\n",
       "      <td>2022</td>\n",
       "    </tr>\n",
       "    <tr>\n",
       "      <th>4</th>\n",
       "      <td>260.00</td>\n",
       "      <td>5.313353</td>\n",
       "      <td>46.136402</td>\n",
       "      <td>37.30</td>\n",
       "      <td>Correcte</td>\n",
       "      <td>2.2</td>\n",
       "      <td>16.4</td>\n",
       "      <td>0.433333</td>\n",
       "      <td>1</td>\n",
       "      <td>6</td>\n",
       "      <td>2022</td>\n",
       "    </tr>\n",
       "    <tr>\n",
       "      <th>5</th>\n",
       "      <td>250.00</td>\n",
       "      <td>5.679690</td>\n",
       "      <td>45.874738</td>\n",
       "      <td>50.00</td>\n",
       "      <td>Correcte</td>\n",
       "      <td>5.4</td>\n",
       "      <td>14.4</td>\n",
       "      <td>6.366667</td>\n",
       "      <td>1</td>\n",
       "      <td>6</td>\n",
       "      <td>2022</td>\n",
       "    </tr>\n",
       "    <tr>\n",
       "      <th>6</th>\n",
       "      <td>208.21</td>\n",
       "      <td>5.285156</td>\n",
       "      <td>45.837397</td>\n",
       "      <td>21.00</td>\n",
       "      <td>Correcte</td>\n",
       "      <td>3.4</td>\n",
       "      <td>16.8</td>\n",
       "      <td>11394.966667</td>\n",
       "      <td>1</td>\n",
       "      <td>6</td>\n",
       "      <td>2022</td>\n",
       "    </tr>\n",
       "    <tr>\n",
       "      <th>7</th>\n",
       "      <td>558.68</td>\n",
       "      <td>6.069710</td>\n",
       "      <td>46.329030</td>\n",
       "      <td>78.00</td>\n",
       "      <td>Correcte</td>\n",
       "      <td>14.8</td>\n",
       "      <td>14.6</td>\n",
       "      <td>0.600000</td>\n",
       "      <td>1</td>\n",
       "      <td>6</td>\n",
       "      <td>2022</td>\n",
       "    </tr>\n",
       "    <tr>\n",
       "      <th>8</th>\n",
       "      <td>250.45</td>\n",
       "      <td>5.823274</td>\n",
       "      <td>45.919630</td>\n",
       "      <td>10.00</td>\n",
       "      <td>Correcte</td>\n",
       "      <td>2.6</td>\n",
       "      <td>15.3</td>\n",
       "      <td>10835.200000</td>\n",
       "      <td>1</td>\n",
       "      <td>6</td>\n",
       "      <td>2022</td>\n",
       "    </tr>\n",
       "    <tr>\n",
       "      <th>9</th>\n",
       "      <td>265.22</td>\n",
       "      <td>4.830754</td>\n",
       "      <td>46.018341</td>\n",
       "      <td>62.60</td>\n",
       "      <td>Correcte</td>\n",
       "      <td>1.6</td>\n",
       "      <td>18.7</td>\n",
       "      <td>3.433333</td>\n",
       "      <td>1</td>\n",
       "      <td>6</td>\n",
       "      <td>2022</td>\n",
       "    </tr>\n",
       "  </tbody>\n",
       "</table>\n",
       "</div>"
      ],
      "text/plain": [
       "   piezo_station_altitude  piezo_station_longitude  piezo_station_latitude  \\\n",
       "0                  232.00                 5.748241               45.828148   \n",
       "1                  247.25                 5.356637               46.028102   \n",
       "2                  218.77                 5.220795               45.895734   \n",
       "3                  499.85                 5.948977               46.201180   \n",
       "4                  260.00                 5.313353               46.136402   \n",
       "5                  250.00                 5.679690               45.874738   \n",
       "6                  208.21                 5.285156               45.837397   \n",
       "7                  558.68                 6.069710               46.329030   \n",
       "8                  250.45                 5.823274               45.919630   \n",
       "9                  265.22                 4.830754               46.018341   \n",
       "\n",
       "   piezo_station_investigation_depth piezo_qualification  meteo_rain_height  \\\n",
       "0                              20.00            Correcte                7.4   \n",
       "1                              35.60            Correcte                3.4   \n",
       "2                              35.22            Correcte                NaN   \n",
       "3                              34.20            Correcte               12.8   \n",
       "4                              37.30            Correcte                2.2   \n",
       "5                              50.00            Correcte                5.4   \n",
       "6                              21.00            Correcte                3.4   \n",
       "7                              78.00            Correcte               14.8   \n",
       "8                              10.00            Correcte                2.6   \n",
       "9                              62.60            Correcte                1.6   \n",
       "\n",
       "   meteo_temperature_avg  hydro_observation_result_elab  day  month  year  \n",
       "0                   17.1                       6.366667    1      6  2022  \n",
       "1                   16.8                     444.866667    1      6  2022  \n",
       "2                   18.0                     538.933333    1      6  2022  \n",
       "3                   11.9                   11119.666667    1      6  2022  \n",
       "4                   16.4                       0.433333    1      6  2022  \n",
       "5                   14.4                       6.366667    1      6  2022  \n",
       "6                   16.8                   11394.966667    1      6  2022  \n",
       "7                   14.6                       0.600000    1      6  2022  \n",
       "8                   15.3                   10835.200000    1      6  2022  \n",
       "9                   18.7                       3.433333    1      6  2022  "
      ]
     },
     "execution_count": 16,
     "metadata": {},
     "output_type": "execute_result"
    }
   ],
   "source": [
    "pd.set_option('display.max_columns', None)\n",
    "df_train.head(10)"
   ]
  },
  {
   "cell_type": "code",
   "execution_count": 29,
   "metadata": {},
   "outputs": [],
   "source": [
    "df_train.to_csv('X_test.csv')"
   ]
  }
 ],
 "metadata": {
  "kernelspec": {
   "display_name": "Python 3",
   "language": "python",
   "name": "python3"
  },
  "language_info": {
   "codemirror_mode": {
    "name": "ipython",
    "version": 3
   },
   "file_extension": ".py",
   "mimetype": "text/x-python",
   "name": "python",
   "nbconvert_exporter": "python",
   "pygments_lexer": "ipython3",
   "version": "3.10.13"
  },
  "orig_nbformat": 4
 },
 "nbformat": 4,
 "nbformat_minor": 2
}
