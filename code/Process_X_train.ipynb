{
 "cells": [
  {
   "attachments": {},
   "cell_type": "markdown",
   "metadata": {},
   "source": [
    "# Hi!ckaton\n",
    "This notebook presents the work the group n°12 has been producing."
   ]
  },
  {
   "cell_type": "code",
   "execution_count": 14,
   "metadata": {},
   "outputs": [],
   "source": [
    "# necessary imports\n",
    "import matplotlib.pyplot as plt\n",
    "import numpy as np\n",
    "import pandas as pd "
   ]
  },
  {
   "cell_type": "code",
   "execution_count": 15,
   "metadata": {},
   "outputs": [
    {
     "name": "stderr",
     "output_type": "stream",
     "text": [
      "/tmp/ipykernel_21334/2993170361.py:2: DtypeWarning: Columns (108,110,111,115,117,118,122,124,125) have mixed types. Specify dtype option on import or set low_memory=False.\n",
      "  df_train =  pd.read_csv(\"hfactory_magic_folders/water_shortage_prediction/X_train_Hi5.csv\")\n"
     ]
    }
   ],
   "source": [
    "# load the training dataset\n",
    "df_train =  pd.read_csv(\"hfactory_magic_folders/water_shortage_prediction/X_train_Hi5.csv\")"
   ]
  },
  {
   "cell_type": "code",
   "execution_count": 16,
   "metadata": {},
   "outputs": [
    {
     "name": "stdout",
     "output_type": "stream",
     "text": [
      "Number of rows : 2830316\n",
      "Number of columns : 136\n"
     ]
    }
   ],
   "source": [
    "# first exploration of the dataset\n",
    "rows, columns = df_train.shape\n",
    "\n",
    "print(f\"Number of rows : {rows}\")\n",
    "print(f\"Number of columns : {columns}\")"
   ]
  },
  {
   "cell_type": "code",
   "execution_count": null,
   "metadata": {},
   "outputs": [
    {
     "data": {
      "text/plain": [
       "(2830316, 11)"
      ]
     },
     "execution_count": 17,
     "metadata": {},
     "output_type": "execute_result"
    }
   ],
   "source": [
    "usefull_columns = [ 'piezo_station_altitude',\n",
    "                   'piezo_station_longitude',\n",
    "                   'piezo_station_latitude',\n",
    "                   'piezo_station_bss_id',\n",
    "                   'piezo_station_investigation_depth',\n",
    "                   'piezo_measurement_date', # To process\n",
    "                   'piezo_qualification', # To process (discrimination)\n",
    "                   'meteo_rain_height', # High impact\n",
    "                   'meteo_temperature_avg',\n",
    "                   'hydro_observation_result_elab',\n",
    "                   'hydro_hydro_quantity_elab', # To process, according to its units\n",
    "                   'piezo_groundwater_level_category']\n",
    "                   \n",
    "label_column = 'piezo_groundwater_level_category'\n",
    "\n",
    "df_train = df_train[usefull_columns]\n",
    "df_train.shape"
   ]
  },
  {
   "cell_type": "markdown",
   "metadata": {},
   "source": [
    "The database is highly time dependent, that means that the prediction of the next days for one station, will surely rely on the previous days. Thus, we can add some 'lag features', these will be the height rain for the last 10 days."
   ]
  },
  {
   "cell_type": "code",
   "execution_count": null,
   "metadata": {},
   "outputs": [],
   "source": [
    "df_train['piezo_measurement_date'] = pd.to_datetime(df_train['piezo_measurement_date'])\n",
    "curr_id = df_train['piezo_station_bss_id'][0]\n",
    "past_measure = [(df_train['piezo_measurement_date'][0],df_train['meteo_rain_height'][0])]\n",
    "\n",
    "for i in range(1,df_train.shape[0]):\n",
    "    if df_train['piezo_station_bss_id'][i] == curr_id:\n",
    "        for j in range(max(0,len(past_measure) - 10), len(past_measure)):\n",
    "\n",
    "            stmp = (df_train['piezo_measurement_date'][i] - past_measure[j][0]).days\n",
    "            if 0 < stmp < 10:\n",
    "                df_train[f'piezo_measurement_day_-{stmp}'][i] = past_measure[j][1]\n",
    "        past_measure.append((df_train['piezo_measurement_date'][i],df_train['meteo_rain_height'][i]))\n",
    "                \n",
    "    else:\n",
    "        curr_id = df_train['piezo_station_bss_id'][i]\n",
    "        past_measure = [(df_train['piezo_measurement_date'][i],df_train['meteo_rain_height'][i])]\n",
    "    if i%100000 == 0:\n",
    "        print(i)"
   ]
  },
  {
   "cell_type": "code",
   "execution_count": null,
   "metadata": {},
   "outputs": [],
   "source": [
    "df_train = df_train.drop(columns = ['piezo_station_bss_id'])"
   ]
  },
  {
   "cell_type": "code",
   "execution_count": 18,
   "metadata": {},
   "outputs": [
    {
     "data": {
      "text/plain": [
       "(2830316, 11)"
      ]
     },
     "execution_count": 18,
     "metadata": {},
     "output_type": "execute_result"
    }
   ],
   "source": [
    "df_train.shape"
   ]
  },
  {
   "cell_type": "code",
   "execution_count": null,
   "metadata": {},
   "outputs": [],
   "source": [
    "# The dates (drop the day information and create a month and a year column)\n",
    "df_train['piezo_measurement_date'] = pd.to_datetime(df_train['piezo_measurement_date'])\n",
    "\n",
    "df_train['day'] = df_train['piezo_measurement_date'].dt.day \n",
    "df_train['month'] = df_train['piezo_measurement_date'].dt.month\n",
    "df_train['year'] = df_train['piezo_measurement_date'].dt.year\n",
    "df_train = df_train.drop(columns = ['piezo_measurement_date']) "
   ]
  },
  {
   "cell_type": "code",
   "execution_count": 20,
   "metadata": {},
   "outputs": [],
   "source": [
    "# The quality of the measure (drop the uncertain or wrong ones)\n",
    "df_train.drop(df_train[df_train['piezo_qualification'] == 'Incorrecte'].index, inplace=True)\n",
    "df_train.drop(df_train[df_train['piezo_qualification'] == 'Incertaine'].index, inplace=True)\n",
    "df_train = df_train.drop(columns = ['piezo_qualification']) "
   ]
  },
  {
   "cell_type": "code",
   "execution_count": 7,
   "metadata": {},
   "outputs": [
    {
     "data": {
      "text/plain": [
       "(2812068, 13)"
      ]
     },
     "execution_count": 7,
     "metadata": {},
     "output_type": "execute_result"
    }
   ],
   "source": [
    "df_train.shape"
   ]
  },
  {
   "cell_type": "code",
   "execution_count": 22,
   "metadata": {},
   "outputs": [
    {
     "data": {
      "text/plain": [
       "count    2.812068e+06\n",
       "mean     1.316905e+05\n",
       "std      9.938560e+06\n",
       "min     -1.103870e+05\n",
       "25%      3.930000e+02\n",
       "50%      1.539000e+03\n",
       "75%      7.755000e+03\n",
       "max      9.999999e+08\n",
       "Name: hydro_observation_result_elab, dtype: float64"
      ]
     },
     "execution_count": 22,
     "metadata": {},
     "output_type": "execute_result"
    }
   ],
   "source": [
    "df_train['hydro_observation_result_elab'].describe()"
   ]
  },
  {
   "cell_type": "code",
   "execution_count": 23,
   "metadata": {},
   "outputs": [],
   "source": [
    "# Adapt the value of hydro_hydro_quantity_elab with the right unit\n",
    "df_train['hydro_observation_result_elab'] = df_train['hydro_observation_result_elab'] / 30\n",
    "df_train = df_train.drop(columns = ['hydro_hydro_quantity_elab']) "
   ]
  },
  {
   "cell_type": "code",
   "execution_count": 24,
   "metadata": {},
   "outputs": [
    {
     "data": {
      "text/plain": [
       "0             61.100000\n",
       "1           3112.966667\n",
       "2           3607.900000\n",
       "3          10182.133333\n",
       "4              2.833333\n",
       "               ...     \n",
       "2830311      173.166667\n",
       "2830312       36.300000\n",
       "2830313       36.300000\n",
       "2830314       10.433333\n",
       "2830315        3.100000\n",
       "Name: hydro_observation_result_elab, Length: 2812068, dtype: float64"
      ]
     },
     "execution_count": 24,
     "metadata": {},
     "output_type": "execute_result"
    }
   ],
   "source": [
    "df_train['hydro_observation_result_elab']"
   ]
  },
  {
   "cell_type": "code",
   "execution_count": 25,
   "metadata": {},
   "outputs": [
    {
     "data": {
      "text/plain": [
       "Index(['piezo_station_altitude', 'piezo_station_longitude',\n",
       "       'piezo_station_latitude', 'piezo_station_investigation_depth',\n",
       "       'meteo_rain_height', 'meteo_temperature_avg',\n",
       "       'hydro_observation_result_elab', 'piezo_groundwater_level_category',\n",
       "       'day', 'month', 'year'],\n",
       "      dtype='object')"
      ]
     },
     "execution_count": 25,
     "metadata": {},
     "output_type": "execute_result"
    }
   ],
   "source": [
    "df_train.columns"
   ]
  },
  {
   "cell_type": "code",
   "execution_count": 28,
   "metadata": {},
   "outputs": [
    {
     "data": {
      "text/html": [
       "<div>\n",
       "<style scoped>\n",
       "    .dataframe tbody tr th:only-of-type {\n",
       "        vertical-align: middle;\n",
       "    }\n",
       "\n",
       "    .dataframe tbody tr th {\n",
       "        vertical-align: top;\n",
       "    }\n",
       "\n",
       "    .dataframe thead th {\n",
       "        text-align: right;\n",
       "    }\n",
       "</style>\n",
       "<table border=\"1\" class=\"dataframe\">\n",
       "  <thead>\n",
       "    <tr style=\"text-align: right;\">\n",
       "      <th></th>\n",
       "      <th>piezo_station_altitude</th>\n",
       "      <th>piezo_station_longitude</th>\n",
       "      <th>piezo_station_latitude</th>\n",
       "      <th>piezo_station_investigation_depth</th>\n",
       "      <th>meteo_rain_height</th>\n",
       "      <th>meteo_temperature_avg</th>\n",
       "      <th>hydro_observation_result_elab</th>\n",
       "      <th>piezo_groundwater_level_category</th>\n",
       "      <th>day</th>\n",
       "      <th>month</th>\n",
       "      <th>year</th>\n",
       "    </tr>\n",
       "  </thead>\n",
       "  <tbody>\n",
       "    <tr>\n",
       "      <th>0</th>\n",
       "      <td>232.00</td>\n",
       "      <td>5.748241</td>\n",
       "      <td>45.828148</td>\n",
       "      <td>20.00</td>\n",
       "      <td>0.2</td>\n",
       "      <td>0.7</td>\n",
       "      <td>61.100000</td>\n",
       "      <td>High</td>\n",
       "      <td>1</td>\n",
       "      <td>1</td>\n",
       "      <td>2020</td>\n",
       "    </tr>\n",
       "    <tr>\n",
       "      <th>1</th>\n",
       "      <td>247.25</td>\n",
       "      <td>5.356637</td>\n",
       "      <td>46.028102</td>\n",
       "      <td>35.60</td>\n",
       "      <td>0.0</td>\n",
       "      <td>-1.2</td>\n",
       "      <td>3112.966667</td>\n",
       "      <td>Very High</td>\n",
       "      <td>1</td>\n",
       "      <td>1</td>\n",
       "      <td>2020</td>\n",
       "    </tr>\n",
       "    <tr>\n",
       "      <th>2</th>\n",
       "      <td>218.77</td>\n",
       "      <td>5.220795</td>\n",
       "      <td>45.895734</td>\n",
       "      <td>35.22</td>\n",
       "      <td>NaN</td>\n",
       "      <td>-0.6</td>\n",
       "      <td>3607.900000</td>\n",
       "      <td>High</td>\n",
       "      <td>1</td>\n",
       "      <td>1</td>\n",
       "      <td>2020</td>\n",
       "    </tr>\n",
       "    <tr>\n",
       "      <th>3</th>\n",
       "      <td>499.85</td>\n",
       "      <td>5.948977</td>\n",
       "      <td>46.201180</td>\n",
       "      <td>34.20</td>\n",
       "      <td>0.0</td>\n",
       "      <td>0.4</td>\n",
       "      <td>10182.133333</td>\n",
       "      <td>Very High</td>\n",
       "      <td>1</td>\n",
       "      <td>1</td>\n",
       "      <td>2020</td>\n",
       "    </tr>\n",
       "    <tr>\n",
       "      <th>4</th>\n",
       "      <td>260.00</td>\n",
       "      <td>5.313353</td>\n",
       "      <td>46.136402</td>\n",
       "      <td>37.30</td>\n",
       "      <td>0.0</td>\n",
       "      <td>-0.8</td>\n",
       "      <td>2.833333</td>\n",
       "      <td>Very Low</td>\n",
       "      <td>1</td>\n",
       "      <td>1</td>\n",
       "      <td>2020</td>\n",
       "    </tr>\n",
       "    <tr>\n",
       "      <th>5</th>\n",
       "      <td>250.00</td>\n",
       "      <td>5.679690</td>\n",
       "      <td>45.874738</td>\n",
       "      <td>50.00</td>\n",
       "      <td>0.0</td>\n",
       "      <td>3.5</td>\n",
       "      <td>61.100000</td>\n",
       "      <td>Very High</td>\n",
       "      <td>1</td>\n",
       "      <td>1</td>\n",
       "      <td>2020</td>\n",
       "    </tr>\n",
       "    <tr>\n",
       "      <th>6</th>\n",
       "      <td>208.21</td>\n",
       "      <td>5.285156</td>\n",
       "      <td>45.837397</td>\n",
       "      <td>21.00</td>\n",
       "      <td>0.0</td>\n",
       "      <td>-1.2</td>\n",
       "      <td>3607.900000</td>\n",
       "      <td>High</td>\n",
       "      <td>1</td>\n",
       "      <td>1</td>\n",
       "      <td>2020</td>\n",
       "    </tr>\n",
       "    <tr>\n",
       "      <th>7</th>\n",
       "      <td>558.68</td>\n",
       "      <td>6.069710</td>\n",
       "      <td>46.329030</td>\n",
       "      <td>78.00</td>\n",
       "      <td>0.0</td>\n",
       "      <td>0.5</td>\n",
       "      <td>20.500000</td>\n",
       "      <td>Very Low</td>\n",
       "      <td>1</td>\n",
       "      <td>1</td>\n",
       "      <td>2020</td>\n",
       "    </tr>\n",
       "    <tr>\n",
       "      <th>8</th>\n",
       "      <td>250.45</td>\n",
       "      <td>5.823274</td>\n",
       "      <td>45.919630</td>\n",
       "      <td>10.00</td>\n",
       "      <td>0.0</td>\n",
       "      <td>-0.4</td>\n",
       "      <td>14373.466667</td>\n",
       "      <td>Low</td>\n",
       "      <td>1</td>\n",
       "      <td>1</td>\n",
       "      <td>2020</td>\n",
       "    </tr>\n",
       "    <tr>\n",
       "      <th>9</th>\n",
       "      <td>265.22</td>\n",
       "      <td>4.830754</td>\n",
       "      <td>46.018341</td>\n",
       "      <td>62.60</td>\n",
       "      <td>0.0</td>\n",
       "      <td>-0.3</td>\n",
       "      <td>10.866667</td>\n",
       "      <td>High</td>\n",
       "      <td>1</td>\n",
       "      <td>1</td>\n",
       "      <td>2020</td>\n",
       "    </tr>\n",
       "  </tbody>\n",
       "</table>\n",
       "</div>"
      ],
      "text/plain": [
       "   piezo_station_altitude  piezo_station_longitude  piezo_station_latitude  \\\n",
       "0                  232.00                 5.748241               45.828148   \n",
       "1                  247.25                 5.356637               46.028102   \n",
       "2                  218.77                 5.220795               45.895734   \n",
       "3                  499.85                 5.948977               46.201180   \n",
       "4                  260.00                 5.313353               46.136402   \n",
       "5                  250.00                 5.679690               45.874738   \n",
       "6                  208.21                 5.285156               45.837397   \n",
       "7                  558.68                 6.069710               46.329030   \n",
       "8                  250.45                 5.823274               45.919630   \n",
       "9                  265.22                 4.830754               46.018341   \n",
       "\n",
       "   piezo_station_investigation_depth  meteo_rain_height  \\\n",
       "0                              20.00                0.2   \n",
       "1                              35.60                0.0   \n",
       "2                              35.22                NaN   \n",
       "3                              34.20                0.0   \n",
       "4                              37.30                0.0   \n",
       "5                              50.00                0.0   \n",
       "6                              21.00                0.0   \n",
       "7                              78.00                0.0   \n",
       "8                              10.00                0.0   \n",
       "9                              62.60                0.0   \n",
       "\n",
       "   meteo_temperature_avg  hydro_observation_result_elab  \\\n",
       "0                    0.7                      61.100000   \n",
       "1                   -1.2                    3112.966667   \n",
       "2                   -0.6                    3607.900000   \n",
       "3                    0.4                   10182.133333   \n",
       "4                   -0.8                       2.833333   \n",
       "5                    3.5                      61.100000   \n",
       "6                   -1.2                    3607.900000   \n",
       "7                    0.5                      20.500000   \n",
       "8                   -0.4                   14373.466667   \n",
       "9                   -0.3                      10.866667   \n",
       "\n",
       "  piezo_groundwater_level_category  day  month  year  \n",
       "0                             High    1      1  2020  \n",
       "1                        Very High    1      1  2020  \n",
       "2                             High    1      1  2020  \n",
       "3                        Very High    1      1  2020  \n",
       "4                         Very Low    1      1  2020  \n",
       "5                        Very High    1      1  2020  \n",
       "6                             High    1      1  2020  \n",
       "7                         Very Low    1      1  2020  \n",
       "8                              Low    1      1  2020  \n",
       "9                             High    1      1  2020  "
      ]
     },
     "execution_count": 28,
     "metadata": {},
     "output_type": "execute_result"
    }
   ],
   "source": [
    "pd.set_option('display.max_columns', None)\n",
    "df_train.head(10)"
   ]
  },
  {
   "cell_type": "code",
   "execution_count": 29,
   "metadata": {},
   "outputs": [],
   "source": [
    "df_train.to_csv('X_train.csv')"
   ]
  }
 ],
 "metadata": {
  "kernelspec": {
   "display_name": "Python 3",
   "language": "python",
   "name": "python3"
  },
  "language_info": {
   "codemirror_mode": {
    "name": "ipython",
    "version": 3
   },
   "file_extension": ".py",
   "mimetype": "text/x-python",
   "name": "python",
   "nbconvert_exporter": "python",
   "pygments_lexer": "ipython3",
   "version": "3.10.13"
  },
  "orig_nbformat": 4
 },
 "nbformat": 4,
 "nbformat_minor": 2
}
